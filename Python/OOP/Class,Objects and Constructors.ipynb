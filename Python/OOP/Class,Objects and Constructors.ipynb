{
 "cells": [
  {
   "cell_type": "markdown",
   "id": "3c1a3d4e",
   "metadata": {},
   "source": [
    "# Class\n",
    "    A class is blueprint for creating objects. It is a basic concept which revolve around the real-life entities.\n",
    "    Syntax of a class:"
   ]
  },
  {
   "cell_type": "code",
   "execution_count": 11,
   "id": "2e2350cf",
   "metadata": {},
   "outputs": [],
   "source": [
    "class Classname: #[classname is written in PascalCase] \n",
    "    pass        # methods and variables\n"
   ]
  },
  {
   "cell_type": "markdown",
   "id": "192f003f",
   "metadata": {},
   "source": [
    "# What is an Object?\n",
    "    Object is an instance of class. It is a self contained component which consists of some methods and properties. For example color name, dog breed, or any other physical thing/object."
   ]
  },
  {
   "cell_type": "code",
   "execution_count": 12,
   "id": "d8e6a7f2",
   "metadata": {},
   "outputs": [],
   "source": [
    "class Student:\n",
    "    pass\n",
    "\n",
    "Deepanshu = Student()  #object-1 for class Student\n",
    "Bhalla = Student()  #object-2 for class Student"
   ]
  },
  {
   "cell_type": "markdown",
   "id": "6e34c652",
   "metadata": {},
   "source": [
    "# Constructor\n",
    "\n",
    "    Constructors are generally used for instantiating an object.The task is to initialise the data members of the class when an object of the class is created.\n",
    "    \n",
    "    __init__ method in python is called the Constructor and is always called when an object of the class is created"
   ]
  },
  {
   "cell_type": "code",
   "execution_count": 13,
   "id": "8f63c91e",
   "metadata": {},
   "outputs": [],
   "source": [
    "def __init__(self):\n",
    "    pass #constructor body"
   ]
  },
  {
   "cell_type": "markdown",
   "id": "ec85b518",
   "metadata": {},
   "source": [
    "## Types of Constructors\n",
    "    There are mainly two types of Constructors :\n",
    "    1) Default Constructors\n",
    "    2) Parameterised Constructors"
   ]
  },
  {
   "cell_type": "markdown",
   "id": "e60f0597",
   "metadata": {},
   "source": [
    "## Default Constructors\n",
    "    Constructor without any arguments. The definition has only one argument i.e self which is like a pointer in cpp and reference in java because this is reference to the object being constructed by this constructor."
   ]
  },
  {
   "cell_type": "code",
   "execution_count": 18,
   "id": "29776bc3",
   "metadata": {},
   "outputs": [
    {
     "name": "stdout",
     "output_type": "stream",
     "text": [
      "GirlScript\n"
     ]
    }
   ],
   "source": [
    "class GirlScript:\n",
    "\n",
    "\t# default constructor\n",
    "\tdef __init__(self):\n",
    "\t\tself.girlscript = \"GirlScript\"\n",
    "\n",
    "\t# a method for printing data members\n",
    "\tdef printGirlScript(self):\n",
    "\t\tprint(self.girlscript)\n",
    "\n",
    "\n",
    "# creating object of the class\n",
    "obj = GirlScript()\n",
    "\n",
    "# calling the instance method using the object obj\n",
    "obj.printGirlScript()\n"
   ]
  },
  {
   "cell_type": "markdown",
   "id": "fd53f487",
   "metadata": {},
   "source": [
    "## Paramaterized Constructors\n",
    "    Constructors with parameters are known as Paramaterized Constructors. The first argument is the reference and then the arguments are taken by the user"
   ]
  },
  {
   "cell_type": "code",
   "execution_count": 21,
   "id": "f7f165b6",
   "metadata": {},
   "outputs": [
    {
     "name": "stdout",
     "output_type": "stream",
     "text": [
      "Deepanshu Rahul\n"
     ]
    }
   ],
   "source": [
    "class Student:\n",
    "    \n",
    "    def __init__(self,fname,lname,rollno):  #constructor -> self is the object reference\n",
    "        self.fname = fname\n",
    "        self.lname = lname\n",
    "        self.rollno = rollno\n",
    "        \n",
    "deep = Student('Deepanshu','Bhalla',191540005)  #Student object(Template is Student which is fixed new \n",
    "                                                #objects are created to represent)\n",
    "rahul = Student('Rahul','Kumar',191540006)\n",
    "\n",
    "print(deep.fname,rahul.fname)"
   ]
  }
 ],
 "metadata": {
  "kernelspec": {
   "display_name": "Python 3",
   "language": "python",
   "name": "python3"
  },
  "language_info": {
   "codemirror_mode": {
    "name": "ipython",
    "version": 3
   },
   "file_extension": ".py",
   "mimetype": "text/x-python",
   "name": "python",
   "nbconvert_exporter": "python",
   "pygments_lexer": "ipython3",
   "version": "3.9.6"
  }
 },
 "nbformat": 4,
 "nbformat_minor": 5
}
